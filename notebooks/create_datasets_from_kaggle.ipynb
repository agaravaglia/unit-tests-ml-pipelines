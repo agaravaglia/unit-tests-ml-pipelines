{
 "cells": [
  {
   "cell_type": "markdown",
   "id": "4a516f1b",
   "metadata": {},
   "source": [
    "# Create datasets\n",
    "\n",
    "In this notebook we start from the Kaggle dataset and create the csvs we will use for our mock ml pipeline.\n",
    "\n",
    "The dataset used is taken from Kaggle: https://www.kaggle.com/datasets/rounakbanik/pokemon.\n",
    "\n",
    "We load it and create some data issues so that we will be able to implement cleanning steps in the ML pipeline."
   ]
  },
  {
   "cell_type": "markdown",
   "id": "f7a94d26",
   "metadata": {},
   "source": [
    "## 1. Imports"
   ]
  },
  {
   "cell_type": "code",
   "execution_count": 1,
   "id": "85889d9d",
   "metadata": {},
   "outputs": [],
   "source": [
    "import pandas as pd\n",
    "import numpy as np\n",
    "from pathlib import Path\n",
    "import json\n",
    "import os"
   ]
  },
  {
   "cell_type": "code",
   "execution_count": 2,
   "id": "ab604c5a",
   "metadata": {},
   "outputs": [],
   "source": [
    "np.random.seed(100)"
   ]
  },
  {
   "cell_type": "code",
   "execution_count": 3,
   "id": "0211ad7d",
   "metadata": {},
   "outputs": [],
   "source": [
    "data_path = Path().cwd().parent / \"data\" \n",
    "dataset_path = data_path / \"datasets\" / \"raw\"\n",
    "credentials_path = data_path / \"credentials\" / \"kaggle.json\""
   ]
  },
  {
   "cell_type": "markdown",
   "id": "1de9ec65",
   "metadata": {},
   "source": [
    "## 2. Load Kaggle data"
   ]
  },
  {
   "cell_type": "code",
   "execution_count": 4,
   "id": "c310d1c1",
   "metadata": {},
   "outputs": [],
   "source": [
    "# Get kaggle TOKEN\n",
    "with open(credentials_path, \"r\") as file:\n",
    "    credentials = json.load(file)\n",
    "    \n",
    "# SET ENV variables\n",
    "os.environ['KAGGLE_USERNAME'] = credentials[\"username\"]\n",
    "os.environ['KAGGLE_KEY'] = credentials[\"key\"]"
   ]
  },
  {
   "cell_type": "code",
   "execution_count": 5,
   "id": "6e215d49",
   "metadata": {},
   "outputs": [],
   "source": [
    "# Initialize client and authenticate\n",
    "from kaggle.api.kaggle_api_extended import KaggleApi\n",
    "\n",
    "api = KaggleApi()\n",
    "api.authenticate()"
   ]
  },
  {
   "cell_type": "code",
   "execution_count": 6,
   "id": "5eb6f840",
   "metadata": {},
   "outputs": [],
   "source": [
    "# Download csv unzipped\n",
    "api.dataset_download_files('rounakbanik/pokemon', path=dataset_path, unzip=True)"
   ]
  },
  {
   "cell_type": "code",
   "execution_count": 7,
   "id": "c6a966af",
   "metadata": {},
   "outputs": [],
   "source": [
    "df_kaggle_data = pd.read_csv(dataset_path / \"pokemon.csv\")"
   ]
  },
  {
   "cell_type": "markdown",
   "id": "3861c10e",
   "metadata": {},
   "source": [
    "## 3. Extract list of pokemon"
   ]
  },
  {
   "cell_type": "markdown",
   "id": "9b2c98ef",
   "metadata": {},
   "source": [
    "As a first step, we create a clean list of pokemon and relative index in the pokedex. We will use this list as a source of truth for valid pokemons."
   ]
  },
  {
   "cell_type": "code",
   "execution_count": 8,
   "id": "99b505a6",
   "metadata": {},
   "outputs": [],
   "source": [
    "df_pokemon_index = df_kaggle_data[[\"pokedex_number\", \"name\"]]"
   ]
  },
  {
   "cell_type": "code",
   "execution_count": 9,
   "id": "9efd34d1",
   "metadata": {},
   "outputs": [],
   "source": [
    "assert df_pokemon_index.pokedex_number.is_unique\n",
    "assert df_pokemon_index[lambda df: df.pokedex_number.isnull()].shape[0] == 0"
   ]
  },
  {
   "cell_type": "markdown",
   "id": "3a3c75b4",
   "metadata": {},
   "source": [
    "## 4. Add artificial nans\n"
   ]
  },
  {
   "cell_type": "markdown",
   "id": "e2bfcdf7",
   "metadata": {},
   "source": [
    "We insert in 8% of the table artificial NaNs so that we have to clean the data in the preprocess phase"
   ]
  },
  {
   "cell_type": "code",
   "execution_count": 10,
   "id": "8458a779",
   "metadata": {},
   "outputs": [],
   "source": [
    "p = 0.1"
   ]
  },
  {
   "cell_type": "markdown",
   "id": "81ef2607",
   "metadata": {},
   "source": [
    "Avoid removing for simplicity the index, the name and the label. Remove from other columns"
   ]
  },
  {
   "cell_type": "code",
   "execution_count": 11,
   "id": "d1955ab4",
   "metadata": {},
   "outputs": [],
   "source": [
    "cols_to_modify = set(df_kaggle_data.columns) - {\"name\", \"pokedex_number\", \"is_legendary\"}"
   ]
  },
  {
   "cell_type": "markdown",
   "id": "ff25aafc",
   "metadata": {},
   "source": [
    "Create a mask to insert NaNs"
   ]
  },
  {
   "cell_type": "code",
   "execution_count": 12,
   "id": "d84d2001",
   "metadata": {},
   "outputs": [],
   "source": [
    "mask = np.random.choice(\n",
    "    [True, False], \n",
    "    p=[p, 1-p],\n",
    "    size=(df_kaggle_data.shape[0], df_kaggle_data.shape[1] - 3)\n",
    ")"
   ]
  },
  {
   "cell_type": "code",
   "execution_count": 13,
   "id": "daf00f72",
   "metadata": {},
   "outputs": [],
   "source": [
    "df_data_with_nans = (\n",
    "    df_kaggle_data[[\"name\", \"pokedex_number\", \"is_legendary\"]]\n",
    "    .join(\n",
    "        df_kaggle_data[list(cols_to_modify)].mask(mask),\n",
    "        how=\"left\"\n",
    "    )\n",
    "    .rename(columns={\"classfication\": \"classification\"})\n",
    ")"
   ]
  },
  {
   "cell_type": "code",
   "execution_count": 14,
   "id": "a7fd517a",
   "metadata": {},
   "outputs": [
    {
     "data": {
      "text/html": [
       "<div>\n",
       "<style scoped>\n",
       "    .dataframe tbody tr th:only-of-type {\n",
       "        vertical-align: middle;\n",
       "    }\n",
       "\n",
       "    .dataframe tbody tr th {\n",
       "        vertical-align: top;\n",
       "    }\n",
       "\n",
       "    .dataframe thead th {\n",
       "        text-align: right;\n",
       "    }\n",
       "</style>\n",
       "<table border=\"1\" class=\"dataframe\">\n",
       "  <thead>\n",
       "    <tr style=\"text-align: right;\">\n",
       "      <th></th>\n",
       "      <th>name</th>\n",
       "      <th>pokedex_number</th>\n",
       "      <th>is_legendary</th>\n",
       "      <th>against_psychic</th>\n",
       "      <th>against_ground</th>\n",
       "      <th>defense</th>\n",
       "      <th>base_egg_steps</th>\n",
       "      <th>sp_attack</th>\n",
       "      <th>against_ice</th>\n",
       "      <th>base_total</th>\n",
       "      <th>...</th>\n",
       "      <th>against_steel</th>\n",
       "      <th>capture_rate</th>\n",
       "      <th>type2</th>\n",
       "      <th>speed</th>\n",
       "      <th>against_fairy</th>\n",
       "      <th>against_grass</th>\n",
       "      <th>generation</th>\n",
       "      <th>type1</th>\n",
       "      <th>classification</th>\n",
       "      <th>hp</th>\n",
       "    </tr>\n",
       "  </thead>\n",
       "  <tbody>\n",
       "    <tr>\n",
       "      <th>0</th>\n",
       "      <td>Bulbasaur</td>\n",
       "      <td>1</td>\n",
       "      <td>0</td>\n",
       "      <td>2.0</td>\n",
       "      <td>1.0</td>\n",
       "      <td>49.0</td>\n",
       "      <td>5120.0</td>\n",
       "      <td>NaN</td>\n",
       "      <td>2.0</td>\n",
       "      <td>318.0</td>\n",
       "      <td>...</td>\n",
       "      <td>1.0</td>\n",
       "      <td>NaN</td>\n",
       "      <td>poison</td>\n",
       "      <td>45.0</td>\n",
       "      <td>0.5</td>\n",
       "      <td>0.25</td>\n",
       "      <td>NaN</td>\n",
       "      <td>grass</td>\n",
       "      <td>Seed Pokémon</td>\n",
       "      <td>NaN</td>\n",
       "    </tr>\n",
       "    <tr>\n",
       "      <th>1</th>\n",
       "      <td>Ivysaur</td>\n",
       "      <td>2</td>\n",
       "      <td>0</td>\n",
       "      <td>2.0</td>\n",
       "      <td>1.0</td>\n",
       "      <td>63.0</td>\n",
       "      <td>5120.0</td>\n",
       "      <td>80.0</td>\n",
       "      <td>NaN</td>\n",
       "      <td>405.0</td>\n",
       "      <td>...</td>\n",
       "      <td>1.0</td>\n",
       "      <td>45</td>\n",
       "      <td>poison</td>\n",
       "      <td>60.0</td>\n",
       "      <td>0.5</td>\n",
       "      <td>0.25</td>\n",
       "      <td>1.0</td>\n",
       "      <td>grass</td>\n",
       "      <td>Seed Pokémon</td>\n",
       "      <td>60.0</td>\n",
       "    </tr>\n",
       "    <tr>\n",
       "      <th>2</th>\n",
       "      <td>Venusaur</td>\n",
       "      <td>3</td>\n",
       "      <td>0</td>\n",
       "      <td>2.0</td>\n",
       "      <td>1.0</td>\n",
       "      <td>NaN</td>\n",
       "      <td>5120.0</td>\n",
       "      <td>122.0</td>\n",
       "      <td>NaN</td>\n",
       "      <td>625.0</td>\n",
       "      <td>...</td>\n",
       "      <td>1.0</td>\n",
       "      <td>45</td>\n",
       "      <td>poison</td>\n",
       "      <td>80.0</td>\n",
       "      <td>0.5</td>\n",
       "      <td>0.25</td>\n",
       "      <td>NaN</td>\n",
       "      <td>grass</td>\n",
       "      <td>Seed Pokémon</td>\n",
       "      <td>80.0</td>\n",
       "    </tr>\n",
       "    <tr>\n",
       "      <th>3</th>\n",
       "      <td>Charmander</td>\n",
       "      <td>4</td>\n",
       "      <td>0</td>\n",
       "      <td>1.0</td>\n",
       "      <td>2.0</td>\n",
       "      <td>43.0</td>\n",
       "      <td>5120.0</td>\n",
       "      <td>60.0</td>\n",
       "      <td>0.5</td>\n",
       "      <td>309.0</td>\n",
       "      <td>...</td>\n",
       "      <td>0.5</td>\n",
       "      <td>45</td>\n",
       "      <td>NaN</td>\n",
       "      <td>65.0</td>\n",
       "      <td>0.5</td>\n",
       "      <td>0.50</td>\n",
       "      <td>1.0</td>\n",
       "      <td>fire</td>\n",
       "      <td>Lizard Pokémon</td>\n",
       "      <td>39.0</td>\n",
       "    </tr>\n",
       "    <tr>\n",
       "      <th>4</th>\n",
       "      <td>Charmeleon</td>\n",
       "      <td>5</td>\n",
       "      <td>0</td>\n",
       "      <td>1.0</td>\n",
       "      <td>2.0</td>\n",
       "      <td>58.0</td>\n",
       "      <td>5120.0</td>\n",
       "      <td>80.0</td>\n",
       "      <td>0.5</td>\n",
       "      <td>405.0</td>\n",
       "      <td>...</td>\n",
       "      <td>0.5</td>\n",
       "      <td>45</td>\n",
       "      <td>NaN</td>\n",
       "      <td>80.0</td>\n",
       "      <td>0.5</td>\n",
       "      <td>0.50</td>\n",
       "      <td>1.0</td>\n",
       "      <td>fire</td>\n",
       "      <td>Flame Pokémon</td>\n",
       "      <td>58.0</td>\n",
       "    </tr>\n",
       "    <tr>\n",
       "      <th>...</th>\n",
       "      <td>...</td>\n",
       "      <td>...</td>\n",
       "      <td>...</td>\n",
       "      <td>...</td>\n",
       "      <td>...</td>\n",
       "      <td>...</td>\n",
       "      <td>...</td>\n",
       "      <td>...</td>\n",
       "      <td>...</td>\n",
       "      <td>...</td>\n",
       "      <td>...</td>\n",
       "      <td>...</td>\n",
       "      <td>...</td>\n",
       "      <td>...</td>\n",
       "      <td>...</td>\n",
       "      <td>...</td>\n",
       "      <td>...</td>\n",
       "      <td>...</td>\n",
       "      <td>...</td>\n",
       "      <td>...</td>\n",
       "      <td>...</td>\n",
       "    </tr>\n",
       "    <tr>\n",
       "      <th>796</th>\n",
       "      <td>Celesteela</td>\n",
       "      <td>797</td>\n",
       "      <td>1</td>\n",
       "      <td>0.5</td>\n",
       "      <td>0.0</td>\n",
       "      <td>103.0</td>\n",
       "      <td>NaN</td>\n",
       "      <td>107.0</td>\n",
       "      <td>1.0</td>\n",
       "      <td>570.0</td>\n",
       "      <td>...</td>\n",
       "      <td>0.5</td>\n",
       "      <td>25</td>\n",
       "      <td>flying</td>\n",
       "      <td>61.0</td>\n",
       "      <td>0.5</td>\n",
       "      <td>0.25</td>\n",
       "      <td>7.0</td>\n",
       "      <td>steel</td>\n",
       "      <td>Launch Pokémon</td>\n",
       "      <td>97.0</td>\n",
       "    </tr>\n",
       "    <tr>\n",
       "      <th>797</th>\n",
       "      <td>Kartana</td>\n",
       "      <td>798</td>\n",
       "      <td>1</td>\n",
       "      <td>0.5</td>\n",
       "      <td>1.0</td>\n",
       "      <td>131.0</td>\n",
       "      <td>30720.0</td>\n",
       "      <td>59.0</td>\n",
       "      <td>1.0</td>\n",
       "      <td>NaN</td>\n",
       "      <td>...</td>\n",
       "      <td>0.5</td>\n",
       "      <td>NaN</td>\n",
       "      <td>steel</td>\n",
       "      <td>109.0</td>\n",
       "      <td>0.5</td>\n",
       "      <td>0.25</td>\n",
       "      <td>7.0</td>\n",
       "      <td>grass</td>\n",
       "      <td>Drawn Sword Pokémon</td>\n",
       "      <td>NaN</td>\n",
       "    </tr>\n",
       "    <tr>\n",
       "      <th>798</th>\n",
       "      <td>Guzzlord</td>\n",
       "      <td>799</td>\n",
       "      <td>1</td>\n",
       "      <td>0.0</td>\n",
       "      <td>1.0</td>\n",
       "      <td>53.0</td>\n",
       "      <td>30720.0</td>\n",
       "      <td>97.0</td>\n",
       "      <td>2.0</td>\n",
       "      <td>NaN</td>\n",
       "      <td>...</td>\n",
       "      <td>1.0</td>\n",
       "      <td>15</td>\n",
       "      <td>dragon</td>\n",
       "      <td>43.0</td>\n",
       "      <td>4.0</td>\n",
       "      <td>0.50</td>\n",
       "      <td>NaN</td>\n",
       "      <td>dark</td>\n",
       "      <td>NaN</td>\n",
       "      <td>223.0</td>\n",
       "    </tr>\n",
       "    <tr>\n",
       "      <th>799</th>\n",
       "      <td>Necrozma</td>\n",
       "      <td>800</td>\n",
       "      <td>1</td>\n",
       "      <td>0.5</td>\n",
       "      <td>1.0</td>\n",
       "      <td>NaN</td>\n",
       "      <td>30720.0</td>\n",
       "      <td>127.0</td>\n",
       "      <td>1.0</td>\n",
       "      <td>600.0</td>\n",
       "      <td>...</td>\n",
       "      <td>1.0</td>\n",
       "      <td>3</td>\n",
       "      <td>NaN</td>\n",
       "      <td>79.0</td>\n",
       "      <td>1.0</td>\n",
       "      <td>1.00</td>\n",
       "      <td>7.0</td>\n",
       "      <td>psychic</td>\n",
       "      <td>Prism Pokémon</td>\n",
       "      <td>97.0</td>\n",
       "    </tr>\n",
       "    <tr>\n",
       "      <th>800</th>\n",
       "      <td>Magearna</td>\n",
       "      <td>801</td>\n",
       "      <td>1</td>\n",
       "      <td>0.5</td>\n",
       "      <td>2.0</td>\n",
       "      <td>NaN</td>\n",
       "      <td>30720.0</td>\n",
       "      <td>NaN</td>\n",
       "      <td>0.5</td>\n",
       "      <td>600.0</td>\n",
       "      <td>...</td>\n",
       "      <td>1.0</td>\n",
       "      <td>3</td>\n",
       "      <td>fairy</td>\n",
       "      <td>65.0</td>\n",
       "      <td>0.5</td>\n",
       "      <td>NaN</td>\n",
       "      <td>7.0</td>\n",
       "      <td>steel</td>\n",
       "      <td>Artificial Pokémon</td>\n",
       "      <td>80.0</td>\n",
       "    </tr>\n",
       "  </tbody>\n",
       "</table>\n",
       "<p>801 rows × 41 columns</p>\n",
       "</div>"
      ],
      "text/plain": [
       "           name  pokedex_number  is_legendary  against_psychic   \n",
       "0     Bulbasaur               1             0              2.0  \\\n",
       "1       Ivysaur               2             0              2.0   \n",
       "2      Venusaur               3             0              2.0   \n",
       "3    Charmander               4             0              1.0   \n",
       "4    Charmeleon               5             0              1.0   \n",
       "..          ...             ...           ...              ...   \n",
       "796  Celesteela             797             1              0.5   \n",
       "797     Kartana             798             1              0.5   \n",
       "798    Guzzlord             799             1              0.0   \n",
       "799    Necrozma             800             1              0.5   \n",
       "800    Magearna             801             1              0.5   \n",
       "\n",
       "     against_ground  defense  base_egg_steps  sp_attack  against_ice   \n",
       "0               1.0     49.0          5120.0        NaN          2.0  \\\n",
       "1               1.0     63.0          5120.0       80.0          NaN   \n",
       "2               1.0      NaN          5120.0      122.0          NaN   \n",
       "3               2.0     43.0          5120.0       60.0          0.5   \n",
       "4               2.0     58.0          5120.0       80.0          0.5   \n",
       "..              ...      ...             ...        ...          ...   \n",
       "796             0.0    103.0             NaN      107.0          1.0   \n",
       "797             1.0    131.0         30720.0       59.0          1.0   \n",
       "798             1.0     53.0         30720.0       97.0          2.0   \n",
       "799             1.0      NaN         30720.0      127.0          1.0   \n",
       "800             2.0      NaN         30720.0        NaN          0.5   \n",
       "\n",
       "     base_total  ...  against_steel  capture_rate   type2  speed   \n",
       "0         318.0  ...            1.0           NaN  poison   45.0  \\\n",
       "1         405.0  ...            1.0            45  poison   60.0   \n",
       "2         625.0  ...            1.0            45  poison   80.0   \n",
       "3         309.0  ...            0.5            45     NaN   65.0   \n",
       "4         405.0  ...            0.5            45     NaN   80.0   \n",
       "..          ...  ...            ...           ...     ...    ...   \n",
       "796       570.0  ...            0.5            25  flying   61.0   \n",
       "797         NaN  ...            0.5           NaN   steel  109.0   \n",
       "798         NaN  ...            1.0            15  dragon   43.0   \n",
       "799       600.0  ...            1.0             3     NaN   79.0   \n",
       "800       600.0  ...            1.0             3   fairy   65.0   \n",
       "\n",
       "    against_fairy  against_grass  generation    type1       classification   \n",
       "0             0.5           0.25         NaN    grass         Seed Pokémon  \\\n",
       "1             0.5           0.25         1.0    grass         Seed Pokémon   \n",
       "2             0.5           0.25         NaN    grass         Seed Pokémon   \n",
       "3             0.5           0.50         1.0     fire       Lizard Pokémon   \n",
       "4             0.5           0.50         1.0     fire        Flame Pokémon   \n",
       "..            ...            ...         ...      ...                  ...   \n",
       "796           0.5           0.25         7.0    steel       Launch Pokémon   \n",
       "797           0.5           0.25         7.0    grass  Drawn Sword Pokémon   \n",
       "798           4.0           0.50         NaN     dark                  NaN   \n",
       "799           1.0           1.00         7.0  psychic        Prism Pokémon   \n",
       "800           0.5            NaN         7.0    steel   Artificial Pokémon   \n",
       "\n",
       "        hp  \n",
       "0      NaN  \n",
       "1     60.0  \n",
       "2     80.0  \n",
       "3     39.0  \n",
       "4     58.0  \n",
       "..     ...  \n",
       "796   97.0  \n",
       "797    NaN  \n",
       "798  223.0  \n",
       "799   97.0  \n",
       "800   80.0  \n",
       "\n",
       "[801 rows x 41 columns]"
      ]
     },
     "execution_count": 14,
     "metadata": {},
     "output_type": "execute_result"
    }
   ],
   "source": [
    "df_data_with_nans"
   ]
  },
  {
   "cell_type": "markdown",
   "id": "a8e0f0dd",
   "metadata": {},
   "source": [
    "## 5. Add duplicated rows "
   ]
  },
  {
   "cell_type": "markdown",
   "id": "7c01b97d",
   "metadata": {},
   "source": [
    "We insert duplicated rows so that we will have to check for duplicates"
   ]
  },
  {
   "cell_type": "code",
   "execution_count": 15,
   "id": "2555acae",
   "metadata": {},
   "outputs": [],
   "source": [
    "df_duplicated_rows = (\n",
    "    pd.concat(\n",
    "        [df_data_with_nans, df_data_with_nans.sample(frac=0.15)],\n",
    "        axis=0,\n",
    "        ignore_index=True\n",
    "    )\n",
    "    .reset_index(drop=True)\n",
    ")"
   ]
  },
  {
   "cell_type": "code",
   "execution_count": 16,
   "id": "188f5dcc",
   "metadata": {},
   "outputs": [],
   "source": [
    "assert df_data_with_nans.shape[0] < df_duplicated_rows.shape[0]"
   ]
  },
  {
   "cell_type": "markdown",
   "id": "29ed27f8",
   "metadata": {},
   "source": [
    "## 6. Add rows with non valid indices"
   ]
  },
  {
   "cell_type": "code",
   "execution_count": 17,
   "id": "1a10bc69",
   "metadata": {},
   "outputs": [],
   "source": [
    "df_invalid_numbers = (\n",
    "    pd.concat(\n",
    "        [\n",
    "            df_duplicated_rows,\n",
    "            df_duplicated_rows\n",
    "                .sample(frac=0.5)\n",
    "                .assign(pokedex_number=lambda df: df.pokedex_number + 10000)\n",
    "        ],\n",
    "        axis=0,\n",
    "        ignore_index=True\n",
    "    )\n",
    "    .reset_index(drop=True)\n",
    ")"
   ]
  },
  {
   "cell_type": "code",
   "execution_count": 18,
   "id": "2cd32679",
   "metadata": {},
   "outputs": [],
   "source": [
    "assert df_duplicated_rows.shape[0] < df_invalid_numbers.shape[0]"
   ]
  },
  {
   "cell_type": "markdown",
   "id": "8b7b5794",
   "metadata": {},
   "source": [
    "## 7. Store as CSVS"
   ]
  },
  {
   "cell_type": "code",
   "execution_count": 19,
   "id": "236eaa71",
   "metadata": {},
   "outputs": [],
   "source": [
    "df_pokemon_index.to_csv(dataset_path / \"raw_pokemon_index.csv\", sep=\";\", index=False)"
   ]
  },
  {
   "cell_type": "code",
   "execution_count": 20,
   "id": "843b3c74",
   "metadata": {},
   "outputs": [],
   "source": [
    "df_invalid_numbers.to_csv(dataset_path / \"raw_pokemon_data.csv\", sep=\";\", index=False)"
   ]
  }
 ],
 "metadata": {
  "kernelspec": {
   "display_name": "Python 3 (ipykernel)",
   "language": "python",
   "name": "python3"
  },
  "language_info": {
   "codemirror_mode": {
    "name": "ipython",
    "version": 3
   },
   "file_extension": ".py",
   "mimetype": "text/x-python",
   "name": "python",
   "nbconvert_exporter": "python",
   "pygments_lexer": "ipython3",
   "version": "3.8.16"
  }
 },
 "nbformat": 4,
 "nbformat_minor": 5
}
