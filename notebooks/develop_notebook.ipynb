{
 "cells": [
  {
   "cell_type": "markdown",
   "id": "889d5014",
   "metadata": {},
   "source": [
    "# Develop notebook\n",
    "\n",
    "In this notebook, we develop our ML project. This is the initial phase, before migrating the code into Python modules.\n",
    "\n",
    "## ML pipeline\n",
    "\n",
    "We want to build an ML model that can classify a pokemon if it is a legendary pokemon or not.\n",
    "\n",
    "## Steps:\n",
    "\n",
    "- Load data and do checks\n",
    "- Preproces data to obtain a clean dataset\n",
    "- Build features for the ML model\n",
    "- Make hyperparameter selection\n",
    "- Train\n",
    "- Predict"
   ]
  },
  {
   "cell_type": "markdown",
   "id": "f36518a0",
   "metadata": {},
   "source": [
    "## 1. Imports"
   ]
  },
  {
   "cell_type": "code",
   "execution_count": 62,
   "id": "0ea85746",
   "metadata": {},
   "outputs": [],
   "source": [
    "import pandas as pd\n",
    "import numpy as np\n",
    "from pathlib import Path"
   ]
  },
  {
   "cell_type": "code",
   "execution_count": 63,
   "id": "4264cd70",
   "metadata": {},
   "outputs": [],
   "source": [
    "dataset_folder = Path().cwd().parent / \"data\" / \"datasets\""
   ]
  },
  {
   "cell_type": "markdown",
   "id": "e1fa4d4a",
   "metadata": {},
   "source": [
    "## 2. Load data"
   ]
  },
  {
   "cell_type": "code",
   "execution_count": 64,
   "id": "efc112ea",
   "metadata": {},
   "outputs": [],
   "source": [
    "df_raw_pokemon_index = pd.read_csv(dataset_folder / \"raw_pokemon_index.csv\", sep=\";\")\n",
    "df_raw_pokemon_data = pd.read_csv(dataset_folder / \"raw_pokemon_data.csv\", sep=\";\")"
   ]
  },
  {
   "cell_type": "markdown",
   "id": "6f940ece",
   "metadata": {},
   "source": [
    "### Check pokemon index"
   ]
  },
  {
   "cell_type": "code",
   "execution_count": 65,
   "id": "615757bc",
   "metadata": {},
   "outputs": [
    {
     "data": {
      "text/html": [
       "<div>\n",
       "<style scoped>\n",
       "    .dataframe tbody tr th:only-of-type {\n",
       "        vertical-align: middle;\n",
       "    }\n",
       "\n",
       "    .dataframe tbody tr th {\n",
       "        vertical-align: top;\n",
       "    }\n",
       "\n",
       "    .dataframe thead th {\n",
       "        text-align: right;\n",
       "    }\n",
       "</style>\n",
       "<table border=\"1\" class=\"dataframe\">\n",
       "  <thead>\n",
       "    <tr style=\"text-align: right;\">\n",
       "      <th></th>\n",
       "      <th>pokedex_number</th>\n",
       "      <th>name</th>\n",
       "    </tr>\n",
       "  </thead>\n",
       "  <tbody>\n",
       "    <tr>\n",
       "      <th>0</th>\n",
       "      <td>1</td>\n",
       "      <td>Bulbasaur</td>\n",
       "    </tr>\n",
       "    <tr>\n",
       "      <th>1</th>\n",
       "      <td>2</td>\n",
       "      <td>Ivysaur</td>\n",
       "    </tr>\n",
       "    <tr>\n",
       "      <th>2</th>\n",
       "      <td>3</td>\n",
       "      <td>Venusaur</td>\n",
       "    </tr>\n",
       "  </tbody>\n",
       "</table>\n",
       "</div>"
      ],
      "text/plain": [
       "   pokedex_number       name\n",
       "0               1  Bulbasaur\n",
       "1               2    Ivysaur\n",
       "2               3   Venusaur"
      ]
     },
     "execution_count": 65,
     "metadata": {},
     "output_type": "execute_result"
    }
   ],
   "source": [
    "df_raw_pokemon_index.head(3)"
   ]
  },
  {
   "cell_type": "code",
   "execution_count": 66,
   "id": "b2507557",
   "metadata": {},
   "outputs": [],
   "source": [
    "assert df_raw_pokemon_index.pokedex_number.is_unique\n",
    "assert not df_raw_pokemon_index.pokedex_number.isnull().any()\n",
    "assert df_raw_pokemon_index.name.is_unique\n",
    "assert not df_raw_pokemon_index.name.isnull().any()"
   ]
  },
  {
   "cell_type": "markdown",
   "id": "3b67393a",
   "metadata": {},
   "source": [
    "### Check data"
   ]
  },
  {
   "cell_type": "code",
   "execution_count": 67,
   "id": "245c148b",
   "metadata": {},
   "outputs": [
    {
     "data": {
      "text/plain": [
       "801"
      ]
     },
     "execution_count": 67,
     "metadata": {},
     "output_type": "execute_result"
    }
   ],
   "source": [
    "df_raw_pokemon_data.drop_duplicates().shape[0] "
   ]
  },
  {
   "cell_type": "code",
   "execution_count": 68,
   "id": "d0bb9471",
   "metadata": {},
   "outputs": [
    {
     "data": {
      "text/plain": [
       "921"
      ]
     },
     "execution_count": 68,
     "metadata": {},
     "output_type": "execute_result"
    }
   ],
   "source": [
    "df_raw_pokemon_data.shape[0] "
   ]
  },
  {
   "cell_type": "code",
   "execution_count": 69,
   "id": "2e665058",
   "metadata": {},
   "outputs": [
    {
     "data": {
      "text/html": [
       "<div>\n",
       "<style scoped>\n",
       "    .dataframe tbody tr th:only-of-type {\n",
       "        vertical-align: middle;\n",
       "    }\n",
       "\n",
       "    .dataframe tbody tr th {\n",
       "        vertical-align: top;\n",
       "    }\n",
       "\n",
       "    .dataframe thead th {\n",
       "        text-align: right;\n",
       "    }\n",
       "</style>\n",
       "<table border=\"1\" class=\"dataframe\">\n",
       "  <thead>\n",
       "    <tr style=\"text-align: right;\">\n",
       "      <th></th>\n",
       "      <th>pokedex_number</th>\n",
       "      <th>is_legendary</th>\n",
       "      <th>against_electric</th>\n",
       "      <th>hp</th>\n",
       "      <th>experience_growth</th>\n",
       "      <th>against_normal</th>\n",
       "      <th>attack</th>\n",
       "      <th>against_dragon</th>\n",
       "      <th>against_water</th>\n",
       "      <th>against_fight</th>\n",
       "      <th>...</th>\n",
       "      <th>against_rock</th>\n",
       "      <th>against_fire</th>\n",
       "      <th>sp_defense</th>\n",
       "      <th>against_fairy</th>\n",
       "      <th>sp_attack</th>\n",
       "      <th>height_m</th>\n",
       "      <th>against_ghost</th>\n",
       "      <th>percentage_male</th>\n",
       "      <th>weight_kg</th>\n",
       "      <th>against_ice</th>\n",
       "    </tr>\n",
       "  </thead>\n",
       "  <tbody>\n",
       "    <tr>\n",
       "      <th>count</th>\n",
       "      <td>801.000000</td>\n",
       "      <td>801.000000</td>\n",
       "      <td>708.000000</td>\n",
       "      <td>725.000000</td>\n",
       "      <td>7.250000e+02</td>\n",
       "      <td>729.000000</td>\n",
       "      <td>705.000000</td>\n",
       "      <td>726.000000</td>\n",
       "      <td>715.000000</td>\n",
       "      <td>727.000000</td>\n",
       "      <td>...</td>\n",
       "      <td>693.000000</td>\n",
       "      <td>723.000000</td>\n",
       "      <td>718.000000</td>\n",
       "      <td>725.000000</td>\n",
       "      <td>728.000000</td>\n",
       "      <td>695.000000</td>\n",
       "      <td>724.000000</td>\n",
       "      <td>647.000000</td>\n",
       "      <td>685.000000</td>\n",
       "      <td>722.000000</td>\n",
       "    </tr>\n",
       "    <tr>\n",
       "      <th>mean</th>\n",
       "      <td>401.000000</td>\n",
       "      <td>0.087391</td>\n",
       "      <td>1.079449</td>\n",
       "      <td>68.769655</td>\n",
       "      <td>1.056019e+06</td>\n",
       "      <td>0.882716</td>\n",
       "      <td>77.914894</td>\n",
       "      <td>0.969697</td>\n",
       "      <td>1.067133</td>\n",
       "      <td>1.074622</td>\n",
       "      <td>...</td>\n",
       "      <td>1.258297</td>\n",
       "      <td>1.128976</td>\n",
       "      <td>70.711699</td>\n",
       "      <td>1.068621</td>\n",
       "      <td>71.142857</td>\n",
       "      <td>1.156978</td>\n",
       "      <td>0.983425</td>\n",
       "      <td>55.151777</td>\n",
       "      <td>60.775036</td>\n",
       "      <td>1.208449</td>\n",
       "    </tr>\n",
       "    <tr>\n",
       "      <th>std</th>\n",
       "      <td>231.373075</td>\n",
       "      <td>0.282583</td>\n",
       "      <td>0.661204</td>\n",
       "      <td>26.316091</td>\n",
       "      <td>1.577488e+05</td>\n",
       "      <td>0.271967</td>\n",
       "      <td>32.078625</td>\n",
       "      <td>0.350041</td>\n",
       "      <td>0.610400</td>\n",
       "      <td>0.708337</td>\n",
       "      <td>...</td>\n",
       "      <td>0.704563</td>\n",
       "      <td>0.689790</td>\n",
       "      <td>27.976961</td>\n",
       "      <td>0.531824</td>\n",
       "      <td>32.182063</td>\n",
       "      <td>1.064805</td>\n",
       "      <td>0.545066</td>\n",
       "      <td>20.636648</td>\n",
       "      <td>109.203300</td>\n",
       "      <td>0.732165</td>\n",
       "    </tr>\n",
       "    <tr>\n",
       "      <th>min</th>\n",
       "      <td>1.000000</td>\n",
       "      <td>0.000000</td>\n",
       "      <td>0.000000</td>\n",
       "      <td>1.000000</td>\n",
       "      <td>6.000000e+05</td>\n",
       "      <td>0.000000</td>\n",
       "      <td>5.000000</td>\n",
       "      <td>0.000000</td>\n",
       "      <td>0.250000</td>\n",
       "      <td>0.000000</td>\n",
       "      <td>...</td>\n",
       "      <td>0.250000</td>\n",
       "      <td>0.250000</td>\n",
       "      <td>20.000000</td>\n",
       "      <td>0.250000</td>\n",
       "      <td>10.000000</td>\n",
       "      <td>0.100000</td>\n",
       "      <td>0.000000</td>\n",
       "      <td>0.000000</td>\n",
       "      <td>0.100000</td>\n",
       "      <td>0.250000</td>\n",
       "    </tr>\n",
       "    <tr>\n",
       "      <th>25%</th>\n",
       "      <td>201.000000</td>\n",
       "      <td>0.000000</td>\n",
       "      <td>0.500000</td>\n",
       "      <td>50.000000</td>\n",
       "      <td>1.000000e+06</td>\n",
       "      <td>1.000000</td>\n",
       "      <td>55.000000</td>\n",
       "      <td>1.000000</td>\n",
       "      <td>0.500000</td>\n",
       "      <td>0.500000</td>\n",
       "      <td>...</td>\n",
       "      <td>1.000000</td>\n",
       "      <td>0.500000</td>\n",
       "      <td>50.000000</td>\n",
       "      <td>1.000000</td>\n",
       "      <td>45.000000</td>\n",
       "      <td>0.550000</td>\n",
       "      <td>1.000000</td>\n",
       "      <td>50.000000</td>\n",
       "      <td>9.000000</td>\n",
       "      <td>0.500000</td>\n",
       "    </tr>\n",
       "    <tr>\n",
       "      <th>50%</th>\n",
       "      <td>401.000000</td>\n",
       "      <td>0.000000</td>\n",
       "      <td>1.000000</td>\n",
       "      <td>65.000000</td>\n",
       "      <td>1.000000e+06</td>\n",
       "      <td>1.000000</td>\n",
       "      <td>75.000000</td>\n",
       "      <td>1.000000</td>\n",
       "      <td>1.000000</td>\n",
       "      <td>1.000000</td>\n",
       "      <td>...</td>\n",
       "      <td>1.000000</td>\n",
       "      <td>1.000000</td>\n",
       "      <td>65.500000</td>\n",
       "      <td>1.000000</td>\n",
       "      <td>65.000000</td>\n",
       "      <td>1.000000</td>\n",
       "      <td>1.000000</td>\n",
       "      <td>50.000000</td>\n",
       "      <td>26.500000</td>\n",
       "      <td>1.000000</td>\n",
       "    </tr>\n",
       "    <tr>\n",
       "      <th>75%</th>\n",
       "      <td>601.000000</td>\n",
       "      <td>0.000000</td>\n",
       "      <td>1.000000</td>\n",
       "      <td>80.000000</td>\n",
       "      <td>1.059860e+06</td>\n",
       "      <td>1.000000</td>\n",
       "      <td>98.000000</td>\n",
       "      <td>1.000000</td>\n",
       "      <td>1.000000</td>\n",
       "      <td>2.000000</td>\n",
       "      <td>...</td>\n",
       "      <td>2.000000</td>\n",
       "      <td>2.000000</td>\n",
       "      <td>89.000000</td>\n",
       "      <td>1.000000</td>\n",
       "      <td>91.000000</td>\n",
       "      <td>1.500000</td>\n",
       "      <td>1.000000</td>\n",
       "      <td>50.000000</td>\n",
       "      <td>62.000000</td>\n",
       "      <td>2.000000</td>\n",
       "    </tr>\n",
       "    <tr>\n",
       "      <th>max</th>\n",
       "      <td>801.000000</td>\n",
       "      <td>1.000000</td>\n",
       "      <td>4.000000</td>\n",
       "      <td>255.000000</td>\n",
       "      <td>1.640000e+06</td>\n",
       "      <td>1.000000</td>\n",
       "      <td>185.000000</td>\n",
       "      <td>2.000000</td>\n",
       "      <td>4.000000</td>\n",
       "      <td>4.000000</td>\n",
       "      <td>...</td>\n",
       "      <td>4.000000</td>\n",
       "      <td>4.000000</td>\n",
       "      <td>230.000000</td>\n",
       "      <td>4.000000</td>\n",
       "      <td>194.000000</td>\n",
       "      <td>14.500000</td>\n",
       "      <td>4.000000</td>\n",
       "      <td>100.000000</td>\n",
       "      <td>999.900000</td>\n",
       "      <td>4.000000</td>\n",
       "    </tr>\n",
       "  </tbody>\n",
       "</table>\n",
       "<p>8 rows × 34 columns</p>\n",
       "</div>"
      ],
      "text/plain": [
       "       pokedex_number  is_legendary  against_electric          hp   \n",
       "count      801.000000    801.000000        708.000000  725.000000  \\\n",
       "mean       401.000000      0.087391          1.079449   68.769655   \n",
       "std        231.373075      0.282583          0.661204   26.316091   \n",
       "min          1.000000      0.000000          0.000000    1.000000   \n",
       "25%        201.000000      0.000000          0.500000   50.000000   \n",
       "50%        401.000000      0.000000          1.000000   65.000000   \n",
       "75%        601.000000      0.000000          1.000000   80.000000   \n",
       "max        801.000000      1.000000          4.000000  255.000000   \n",
       "\n",
       "       experience_growth  against_normal      attack  against_dragon   \n",
       "count       7.250000e+02      729.000000  705.000000      726.000000  \\\n",
       "mean        1.056019e+06        0.882716   77.914894        0.969697   \n",
       "std         1.577488e+05        0.271967   32.078625        0.350041   \n",
       "min         6.000000e+05        0.000000    5.000000        0.000000   \n",
       "25%         1.000000e+06        1.000000   55.000000        1.000000   \n",
       "50%         1.000000e+06        1.000000   75.000000        1.000000   \n",
       "75%         1.059860e+06        1.000000   98.000000        1.000000   \n",
       "max         1.640000e+06        1.000000  185.000000        2.000000   \n",
       "\n",
       "       against_water  against_fight  ...  against_rock  against_fire   \n",
       "count     715.000000     727.000000  ...    693.000000    723.000000  \\\n",
       "mean        1.067133       1.074622  ...      1.258297      1.128976   \n",
       "std         0.610400       0.708337  ...      0.704563      0.689790   \n",
       "min         0.250000       0.000000  ...      0.250000      0.250000   \n",
       "25%         0.500000       0.500000  ...      1.000000      0.500000   \n",
       "50%         1.000000       1.000000  ...      1.000000      1.000000   \n",
       "75%         1.000000       2.000000  ...      2.000000      2.000000   \n",
       "max         4.000000       4.000000  ...      4.000000      4.000000   \n",
       "\n",
       "       sp_defense  against_fairy   sp_attack    height_m  against_ghost   \n",
       "count  718.000000     725.000000  728.000000  695.000000     724.000000  \\\n",
       "mean    70.711699       1.068621   71.142857    1.156978       0.983425   \n",
       "std     27.976961       0.531824   32.182063    1.064805       0.545066   \n",
       "min     20.000000       0.250000   10.000000    0.100000       0.000000   \n",
       "25%     50.000000       1.000000   45.000000    0.550000       1.000000   \n",
       "50%     65.500000       1.000000   65.000000    1.000000       1.000000   \n",
       "75%     89.000000       1.000000   91.000000    1.500000       1.000000   \n",
       "max    230.000000       4.000000  194.000000   14.500000       4.000000   \n",
       "\n",
       "       percentage_male   weight_kg  against_ice  \n",
       "count       647.000000  685.000000   722.000000  \n",
       "mean         55.151777   60.775036     1.208449  \n",
       "std          20.636648  109.203300     0.732165  \n",
       "min           0.000000    0.100000     0.250000  \n",
       "25%          50.000000    9.000000     0.500000  \n",
       "50%          50.000000   26.500000     1.000000  \n",
       "75%          50.000000   62.000000     2.000000  \n",
       "max         100.000000  999.900000     4.000000  \n",
       "\n",
       "[8 rows x 34 columns]"
      ]
     },
     "execution_count": 69,
     "metadata": {},
     "output_type": "execute_result"
    }
   ],
   "source": [
    "df_raw_pokemon_data.drop_duplicates().describe()"
   ]
  },
  {
   "cell_type": "code",
   "execution_count": 70,
   "id": "7e59db36",
   "metadata": {},
   "outputs": [
    {
     "data": {
      "text/html": [
       "<div>\n",
       "<style scoped>\n",
       "    .dataframe tbody tr th:only-of-type {\n",
       "        vertical-align: middle;\n",
       "    }\n",
       "\n",
       "    .dataframe tbody tr th {\n",
       "        vertical-align: top;\n",
       "    }\n",
       "\n",
       "    .dataframe thead th {\n",
       "        text-align: right;\n",
       "    }\n",
       "</style>\n",
       "<table border=\"1\" class=\"dataframe\">\n",
       "  <thead>\n",
       "    <tr style=\"text-align: right;\">\n",
       "      <th></th>\n",
       "      <th>nr_nulls</th>\n",
       "    </tr>\n",
       "  </thead>\n",
       "  <tbody>\n",
       "    <tr>\n",
       "      <th>name</th>\n",
       "      <td>0</td>\n",
       "    </tr>\n",
       "    <tr>\n",
       "      <th>pokedex_number</th>\n",
       "      <td>0</td>\n",
       "    </tr>\n",
       "    <tr>\n",
       "      <th>is_legendary</th>\n",
       "      <td>0</td>\n",
       "    </tr>\n",
       "    <tr>\n",
       "      <th>against_electric</th>\n",
       "      <td>93</td>\n",
       "    </tr>\n",
       "    <tr>\n",
       "      <th>hp</th>\n",
       "      <td>76</td>\n",
       "    </tr>\n",
       "    <tr>\n",
       "      <th>experience_growth</th>\n",
       "      <td>76</td>\n",
       "    </tr>\n",
       "    <tr>\n",
       "      <th>against_normal</th>\n",
       "      <td>72</td>\n",
       "    </tr>\n",
       "    <tr>\n",
       "      <th>capture_rate</th>\n",
       "      <td>72</td>\n",
       "    </tr>\n",
       "    <tr>\n",
       "      <th>attack</th>\n",
       "      <td>96</td>\n",
       "    </tr>\n",
       "    <tr>\n",
       "      <th>against_dragon</th>\n",
       "      <td>75</td>\n",
       "    </tr>\n",
       "    <tr>\n",
       "      <th>against_water</th>\n",
       "      <td>86</td>\n",
       "    </tr>\n",
       "    <tr>\n",
       "      <th>against_fight</th>\n",
       "      <td>74</td>\n",
       "    </tr>\n",
       "    <tr>\n",
       "      <th>classfication</th>\n",
       "      <td>86</td>\n",
       "    </tr>\n",
       "    <tr>\n",
       "      <th>against_grass</th>\n",
       "      <td>91</td>\n",
       "    </tr>\n",
       "    <tr>\n",
       "      <th>against_poison</th>\n",
       "      <td>92</td>\n",
       "    </tr>\n",
       "    <tr>\n",
       "      <th>type2</th>\n",
       "      <td>430</td>\n",
       "    </tr>\n",
       "    <tr>\n",
       "      <th>against_psychic</th>\n",
       "      <td>75</td>\n",
       "    </tr>\n",
       "    <tr>\n",
       "      <th>base_total</th>\n",
       "      <td>70</td>\n",
       "    </tr>\n",
       "    <tr>\n",
       "      <th>defense</th>\n",
       "      <td>84</td>\n",
       "    </tr>\n",
       "    <tr>\n",
       "      <th>against_ground</th>\n",
       "      <td>96</td>\n",
       "    </tr>\n",
       "    <tr>\n",
       "      <th>generation</th>\n",
       "      <td>60</td>\n",
       "    </tr>\n",
       "    <tr>\n",
       "      <th>japanese_name</th>\n",
       "      <td>87</td>\n",
       "    </tr>\n",
       "    <tr>\n",
       "      <th>base_egg_steps</th>\n",
       "      <td>80</td>\n",
       "    </tr>\n",
       "    <tr>\n",
       "      <th>against_steel</th>\n",
       "      <td>78</td>\n",
       "    </tr>\n",
       "    <tr>\n",
       "      <th>against_dark</th>\n",
       "      <td>75</td>\n",
       "    </tr>\n",
       "    <tr>\n",
       "      <th>abilities</th>\n",
       "      <td>68</td>\n",
       "    </tr>\n",
       "    <tr>\n",
       "      <th>base_happiness</th>\n",
       "      <td>73</td>\n",
       "    </tr>\n",
       "    <tr>\n",
       "      <th>against_flying</th>\n",
       "      <td>60</td>\n",
       "    </tr>\n",
       "    <tr>\n",
       "      <th>type1</th>\n",
       "      <td>90</td>\n",
       "    </tr>\n",
       "    <tr>\n",
       "      <th>against_bug</th>\n",
       "      <td>76</td>\n",
       "    </tr>\n",
       "    <tr>\n",
       "      <th>speed</th>\n",
       "      <td>100</td>\n",
       "    </tr>\n",
       "    <tr>\n",
       "      <th>against_rock</th>\n",
       "      <td>108</td>\n",
       "    </tr>\n",
       "    <tr>\n",
       "      <th>against_fire</th>\n",
       "      <td>78</td>\n",
       "    </tr>\n",
       "    <tr>\n",
       "      <th>sp_defense</th>\n",
       "      <td>83</td>\n",
       "    </tr>\n",
       "    <tr>\n",
       "      <th>against_fairy</th>\n",
       "      <td>76</td>\n",
       "    </tr>\n",
       "    <tr>\n",
       "      <th>sp_attack</th>\n",
       "      <td>73</td>\n",
       "    </tr>\n",
       "    <tr>\n",
       "      <th>height_m</th>\n",
       "      <td>106</td>\n",
       "    </tr>\n",
       "    <tr>\n",
       "      <th>against_ghost</th>\n",
       "      <td>77</td>\n",
       "    </tr>\n",
       "    <tr>\n",
       "      <th>percentage_male</th>\n",
       "      <td>154</td>\n",
       "    </tr>\n",
       "    <tr>\n",
       "      <th>weight_kg</th>\n",
       "      <td>116</td>\n",
       "    </tr>\n",
       "    <tr>\n",
       "      <th>against_ice</th>\n",
       "      <td>79</td>\n",
       "    </tr>\n",
       "  </tbody>\n",
       "</table>\n",
       "</div>"
      ],
      "text/plain": [
       "                   nr_nulls\n",
       "name                      0\n",
       "pokedex_number            0\n",
       "is_legendary              0\n",
       "against_electric         93\n",
       "hp                       76\n",
       "experience_growth        76\n",
       "against_normal           72\n",
       "capture_rate             72\n",
       "attack                   96\n",
       "against_dragon           75\n",
       "against_water            86\n",
       "against_fight            74\n",
       "classfication            86\n",
       "against_grass            91\n",
       "against_poison           92\n",
       "type2                   430\n",
       "against_psychic          75\n",
       "base_total               70\n",
       "defense                  84\n",
       "against_ground           96\n",
       "generation               60\n",
       "japanese_name            87\n",
       "base_egg_steps           80\n",
       "against_steel            78\n",
       "against_dark             75\n",
       "abilities                68\n",
       "base_happiness           73\n",
       "against_flying           60\n",
       "type1                    90\n",
       "against_bug              76\n",
       "speed                   100\n",
       "against_rock            108\n",
       "against_fire             78\n",
       "sp_defense               83\n",
       "against_fairy            76\n",
       "sp_attack                73\n",
       "height_m                106\n",
       "against_ghost            77\n",
       "percentage_male         154\n",
       "weight_kg               116\n",
       "against_ice              79"
      ]
     },
     "execution_count": 70,
     "metadata": {},
     "output_type": "execute_result"
    }
   ],
   "source": [
    "(\n",
    "    df_raw_pokemon_data.drop_duplicates()\n",
    "    .isnull()\n",
    "    .sum(axis=0)\n",
    "    .to_frame(\"nr_nulls\")\n",
    "    \n",
    ")"
   ]
  },
  {
   "cell_type": "code",
   "execution_count": 71,
   "id": "d2b38ffb",
   "metadata": {},
   "outputs": [],
   "source": [
    "assert df_raw_pokemon_data.drop_duplicates().pokedex_number.is_unique"
   ]
  },
  {
   "cell_type": "markdown",
   "id": "de8e7b35",
   "metadata": {},
   "source": [
    "## 3. Clean data\n",
    "\n",
    "For cleaning, we do the following:\n",
    "\n",
    "- Drop duplicates\n",
    "- put all strings to lower\n",
    "- remove japanese name to avoid encoding issues\n",
    "- Inner join with the index\n",
    "- convert abilities to lookup table\n",
    "- save\n",
    "    - cleaned table\n",
    "    - lookup abilities"
   ]
  },
  {
   "cell_type": "code",
   "execution_count": 266,
   "id": "d0155df8",
   "metadata": {},
   "outputs": [],
   "source": [
    "def remove_duplicates(dataframe: pd.DataFrame):\n",
    "    \"\"\"\n",
    "    Drop the duplicates of the dataframe\n",
    "    \"\"\"\n",
    "    return dataframe.drop_duplicates()\n",
    "\n",
    "\n",
    "def identify_string_columns(dataframe):\n",
    "    \"\"\"\n",
    "    Identify the list of columns that are not numerical\n",
    "    \"\"\"\n",
    "    return dataframe.select_dtypes(exclude=[np.number]).columns.tolist()\n",
    "\n",
    "\n",
    "\n",
    "def lower_case(dataframe):\n",
    "    \"\"\"\n",
    "    Convert all string columns to lower case\n",
    "    \"\"\"\n",
    "    for col in identify_string_columns(dataframe=dataframe):\n",
    "        dataframe.loc[:, col] = dataframe.loc[:, col].str.lower()\n",
    "    return dataframe\n",
    "\n",
    "\n",
    "def drop_japanese_names(dataframe):\n",
    "    \"\"\"\n",
    "    Remove japanese name to avoid issues\n",
    "    \"\"\"\n",
    "    return (\n",
    "        dataframe\n",
    "        .drop(\"japanese_name\", axis=1)\n",
    "    )\n",
    "\n",
    "\n",
    "def clean_classification(dataframe):\n",
    "    \"\"\"\n",
    "    Remove the suffix 'pkèmon' from column values\n",
    "    \"\"\"\n",
    "    return (\n",
    "        dataframe\n",
    "        .assign(\n",
    "            classfication=lambda df: df.classfication.str.replace(\" pokémon\", \"\")\n",
    "        )\n",
    "    )\n",
    "\n",
    "def filter_by_valid_pokedex_number(dataframe, pokedex):\n",
    "    \"\"\"\n",
    "    Inner join with pokedex number to identify valid pokemons\n",
    "    \"\"\"\n",
    "    return (\n",
    "        dataframe\n",
    "        .merge(\n",
    "            pokedex[[\"pokedex_number\"]],\n",
    "            on=\"pokedex_number\",\n",
    "            how=\"inner\",\n",
    "            validate=\"one_to_one\"\n",
    "        )\n",
    "    )\n",
    "\n",
    "\n",
    "def extract_abilities_lookup(dataframe):\n",
    "    \"\"\"\n",
    "    Create dataframe of abilities lookup\n",
    "    \"\"\"\n",
    "    return (\n",
    "        dataframe[[\"pokedex_number\", \"abilities\"]]\n",
    "        [lambda df: ~df.abilities.isnull()]\n",
    "        .assign(\n",
    "            abilities=lambda df: df.abilities.str.replace(\"\\'|\\[|\\]\", \"\", regex=True).str.split(\", \")\n",
    "        )\n",
    "        .explode(\"abilities\")\n",
    "        [[\"pokedex_number\", \"abilities\"]] \n",
    "        .drop_duplicates()\n",
    "    )\n",
    "\n",
    "\n",
    "def drop_abilities(dataframe):\n",
    "    \"\"\"\n",
    "    Drop the abilities dataframe\n",
    "    \"\"\"\n",
    "    return dataframe.drop(\"abilities\", axis=1)"
   ]
  },
  {
   "cell_type": "markdown",
   "id": "6889bef6",
   "metadata": {},
   "source": [
    "### Apply all transformations at once"
   ]
  },
  {
   "cell_type": "code",
   "execution_count": 267,
   "id": "aa0e54ee",
   "metadata": {},
   "outputs": [],
   "source": [
    "intermediate_pokemon_data = (\n",
    "    df_raw_pokemon_data\n",
    "    .pipe(remove_duplicates)\n",
    "    .pipe(lower_case)\n",
    "    .pipe(clean_classification)\n",
    "    .pipe(drop_japanese_names)\n",
    "    .pipe(filter_by_valid_pokedex_number, pokedex=df_raw_pokemon_index)\n",
    ")"
   ]
  },
  {
   "cell_type": "code",
   "execution_count": 268,
   "id": "1c37308c",
   "metadata": {},
   "outputs": [
    {
     "data": {
      "text/html": [
       "<div>\n",
       "<style scoped>\n",
       "    .dataframe tbody tr th:only-of-type {\n",
       "        vertical-align: middle;\n",
       "    }\n",
       "\n",
       "    .dataframe tbody tr th {\n",
       "        vertical-align: top;\n",
       "    }\n",
       "\n",
       "    .dataframe thead th {\n",
       "        text-align: right;\n",
       "    }\n",
       "</style>\n",
       "<table border=\"1\" class=\"dataframe\">\n",
       "  <thead>\n",
       "    <tr style=\"text-align: right;\">\n",
       "      <th></th>\n",
       "      <th>name</th>\n",
       "      <th>capture_rate</th>\n",
       "      <th>classfication</th>\n",
       "      <th>type2</th>\n",
       "      <th>abilities</th>\n",
       "      <th>type1</th>\n",
       "    </tr>\n",
       "  </thead>\n",
       "  <tbody>\n",
       "    <tr>\n",
       "      <th>0</th>\n",
       "      <td>bulbasaur</td>\n",
       "      <td>NaN</td>\n",
       "      <td>seed</td>\n",
       "      <td>poison</td>\n",
       "      <td>['overgrow', 'chlorophyll']</td>\n",
       "      <td>grass</td>\n",
       "    </tr>\n",
       "    <tr>\n",
       "      <th>1</th>\n",
       "      <td>ivysaur</td>\n",
       "      <td>45</td>\n",
       "      <td>seed</td>\n",
       "      <td>poison</td>\n",
       "      <td>['overgrow', 'chlorophyll']</td>\n",
       "      <td>grass</td>\n",
       "    </tr>\n",
       "    <tr>\n",
       "      <th>2</th>\n",
       "      <td>venusaur</td>\n",
       "      <td>45</td>\n",
       "      <td>seed</td>\n",
       "      <td>poison</td>\n",
       "      <td>['overgrow', 'chlorophyll']</td>\n",
       "      <td>grass</td>\n",
       "    </tr>\n",
       "    <tr>\n",
       "      <th>3</th>\n",
       "      <td>charmander</td>\n",
       "      <td>45</td>\n",
       "      <td>NaN</td>\n",
       "      <td>NaN</td>\n",
       "      <td>['blaze', 'solar power']</td>\n",
       "      <td>fire</td>\n",
       "    </tr>\n",
       "    <tr>\n",
       "      <th>4</th>\n",
       "      <td>charmeleon</td>\n",
       "      <td>45</td>\n",
       "      <td>flame</td>\n",
       "      <td>NaN</td>\n",
       "      <td>['blaze', 'solar power']</td>\n",
       "      <td>fire</td>\n",
       "    </tr>\n",
       "    <tr>\n",
       "      <th>...</th>\n",
       "      <td>...</td>\n",
       "      <td>...</td>\n",
       "      <td>...</td>\n",
       "      <td>...</td>\n",
       "      <td>...</td>\n",
       "      <td>...</td>\n",
       "    </tr>\n",
       "    <tr>\n",
       "      <th>796</th>\n",
       "      <td>celesteela</td>\n",
       "      <td>25</td>\n",
       "      <td>launch</td>\n",
       "      <td>NaN</td>\n",
       "      <td>['beast boost']</td>\n",
       "      <td>NaN</td>\n",
       "    </tr>\n",
       "    <tr>\n",
       "      <th>797</th>\n",
       "      <td>kartana</td>\n",
       "      <td>255</td>\n",
       "      <td>drawn sword</td>\n",
       "      <td>steel</td>\n",
       "      <td>['beast boost']</td>\n",
       "      <td>grass</td>\n",
       "    </tr>\n",
       "    <tr>\n",
       "      <th>798</th>\n",
       "      <td>guzzlord</td>\n",
       "      <td>15</td>\n",
       "      <td>junkivore</td>\n",
       "      <td>dragon</td>\n",
       "      <td>['beast boost']</td>\n",
       "      <td>dark</td>\n",
       "    </tr>\n",
       "    <tr>\n",
       "      <th>799</th>\n",
       "      <td>necrozma</td>\n",
       "      <td>3</td>\n",
       "      <td>prism</td>\n",
       "      <td>NaN</td>\n",
       "      <td>['prism armor']</td>\n",
       "      <td>psychic</td>\n",
       "    </tr>\n",
       "    <tr>\n",
       "      <th>800</th>\n",
       "      <td>magearna</td>\n",
       "      <td>NaN</td>\n",
       "      <td>NaN</td>\n",
       "      <td>fairy</td>\n",
       "      <td>NaN</td>\n",
       "      <td>steel</td>\n",
       "    </tr>\n",
       "  </tbody>\n",
       "</table>\n",
       "<p>801 rows × 6 columns</p>\n",
       "</div>"
      ],
      "text/plain": [
       "           name capture_rate classfication   type2   \n",
       "0     bulbasaur          NaN          seed  poison  \\\n",
       "1       ivysaur           45          seed  poison   \n",
       "2      venusaur           45          seed  poison   \n",
       "3    charmander           45           NaN     NaN   \n",
       "4    charmeleon           45         flame     NaN   \n",
       "..          ...          ...           ...     ...   \n",
       "796  celesteela           25        launch     NaN   \n",
       "797     kartana          255   drawn sword   steel   \n",
       "798    guzzlord           15     junkivore  dragon   \n",
       "799    necrozma            3         prism     NaN   \n",
       "800    magearna          NaN           NaN   fairy   \n",
       "\n",
       "                       abilities    type1  \n",
       "0    ['overgrow', 'chlorophyll']    grass  \n",
       "1    ['overgrow', 'chlorophyll']    grass  \n",
       "2    ['overgrow', 'chlorophyll']    grass  \n",
       "3       ['blaze', 'solar power']     fire  \n",
       "4       ['blaze', 'solar power']     fire  \n",
       "..                           ...      ...  \n",
       "796              ['beast boost']      NaN  \n",
       "797              ['beast boost']    grass  \n",
       "798              ['beast boost']     dark  \n",
       "799              ['prism armor']  psychic  \n",
       "800                          NaN    steel  \n",
       "\n",
       "[801 rows x 6 columns]"
      ]
     },
     "execution_count": 268,
     "metadata": {},
     "output_type": "execute_result"
    }
   ],
   "source": [
    "intermediate_pokemon_data[identify_string_columns(intermediate_pokemon_data)]"
   ]
  },
  {
   "cell_type": "markdown",
   "id": "59a8ae66",
   "metadata": {},
   "source": [
    "### Generate dataframe of abilities"
   ]
  },
  {
   "cell_type": "code",
   "execution_count": 269,
   "id": "5416b4b8",
   "metadata": {},
   "outputs": [],
   "source": [
    "df_abilities = extract_abilities_lookup(intermediate_pokemon_data)"
   ]
  },
  {
   "cell_type": "markdown",
   "id": "9cc1b14d",
   "metadata": {},
   "source": [
    "### Generate clean data"
   ]
  },
  {
   "cell_type": "code",
   "execution_count": 270,
   "id": "75795f9b",
   "metadata": {},
   "outputs": [],
   "source": [
    "df_data = drop_abilities(intermediate_pokemon_data)"
   ]
  },
  {
   "cell_type": "markdown",
   "id": "8e668f15",
   "metadata": {},
   "source": [
    "### Clean index"
   ]
  },
  {
   "cell_type": "code",
   "execution_count": 271,
   "id": "257b878f",
   "metadata": {},
   "outputs": [],
   "source": [
    "df_index = lower_case(df_raw_pokemon_index)"
   ]
  },
  {
   "cell_type": "markdown",
   "id": "23d26f9c",
   "metadata": {},
   "source": [
    "### Save tables"
   ]
  },
  {
   "cell_type": "code",
   "execution_count": 272,
   "id": "bba3f7b2",
   "metadata": {},
   "outputs": [],
   "source": [
    "df_abilities.to_csv(dataset_folder / \"stg__abilities.csv\", sep=\";\", index=False)\n",
    "df_data.to_csv(dataset_folder / \"stg__pokemon_data.csv\", sep=\";\", index=False)\n",
    "df_index.to_csv(dataset_folder / \"stg__pokedex.csv\", sep=\";\", index=False)"
   ]
  },
  {
   "cell_type": "markdown",
   "id": "ac31dfcc",
   "metadata": {},
   "source": [
    "## 4. Feature Engineering\n",
    "\n",
    "For feature engineering, we do the following steps:\n",
    "\n",
    "- Select major numerical features\n",
    "    - fill nans with mean\n",
    "    - standardize\n",
    "- Select categorical features\n",
    "    - fill nans with additional value\n",
    "    - create onehot encoding"
   ]
  },
  {
   "cell_type": "code",
   "execution_count": 273,
   "id": "6e72204a",
   "metadata": {},
   "outputs": [],
   "source": [
    "df_abilities_loaded = pd.read_csv(dataset_folder / \"stg__abilities.csv\", sep=\";\")\n",
    "df_data_loaded = pd.read_csv(dataset_folder / \"stg__pokemon_data.csv\", sep=\";\")\n",
    "df_index_loaded = pd.read_csv(dataset_folder / \"stg__pokedex.csv\", sep=\";\")"
   ]
  },
  {
   "cell_type": "markdown",
   "id": "a29d9e83",
   "metadata": {},
   "source": [
    "### Numerical features"
   ]
  },
  {
   "cell_type": "code",
   "execution_count": 274,
   "id": "2e6eb1d6",
   "metadata": {},
   "outputs": [],
   "source": [
    "def fill_numerical_nan(dataframe, col):\n",
    "    \"\"\"\n",
    "    For a given column, fill numerical with the mean\n",
    "    \"\"\"\n",
    "    mean = dataframe.loc[:, col].mean()\n",
    "    \n",
    "    dataframe.loc[:, col] = np.where(\n",
    "        ~dataframe.loc[:, col].isnull(),\n",
    "        dataframe.loc[:, col],\n",
    "        mean\n",
    "    )\n",
    "    \n",
    "    return dataframe\n",
    "\n",
    "\n",
    "def fill_numerical_features(dataframe, columns):\n",
    "    \"\"\"\n",
    "    Fill numerical features\n",
    "    \"\"\"\n",
    "    for col in columns:\n",
    "        dataframe = fill_numerical_nan(dataframe, col)\n",
    "    \n",
    "    return dataframe\n",
    "\n",
    "\n",
    "def standardize_numerical_features(dataframe, columns):\n",
    "    \"\"\"\n",
    "    stndardize according to mean and std\n",
    "    \"\"\"\n",
    "    return (\n",
    "        (dataframe-dataframe.mean())/dataframe.std()\n",
    "    )\n",
    "\n",
    "\n",
    "def calculate_numerical_features(dataframe, features):\n",
    "    \"\"\"\n",
    "    Calculate numerical features\n",
    "    \"\"\"\n",
    "    return (\n",
    "        dataframe\n",
    "        [features]\n",
    "        .pipe(fill_numerical_features, columns=features)\n",
    "        .pipe(standardize_numerical_features, columns=features)   \n",
    "    )"
   ]
  },
  {
   "cell_type": "code",
   "execution_count": 275,
   "id": "f402e67c",
   "metadata": {},
   "outputs": [],
   "source": [
    "features = [\n",
    "    'hp',\n",
    "    'experience_growth',\n",
    "    'attack',\n",
    "    'base_total',\n",
    "    'defense',\n",
    "    'generation',\n",
    "    'base_egg_steps',\n",
    "    'base_happiness',\n",
    "    'speed',\n",
    "    'sp_defense',\n",
    "    'sp_attack',\n",
    "    'height_m',\n",
    "    'percentage_male',\n",
    "    'weight_kg',\n",
    "]"
   ]
  },
  {
   "cell_type": "code",
   "execution_count": 276,
   "id": "5e73d156",
   "metadata": {},
   "outputs": [],
   "source": [
    "df_numerical_features = df_data_loaded.pipe(calculate_numerical_features, features=features)"
   ]
  },
  {
   "cell_type": "markdown",
   "id": "990ba7ca",
   "metadata": {},
   "source": [
    "## Categorical features"
   ]
  },
  {
   "cell_type": "code",
   "execution_count": 302,
   "id": "09711906",
   "metadata": {},
   "outputs": [],
   "source": [
    "def fill_categorical_values(dataframe):\n",
    "    \"\"\"\n",
    "    For now, missing values are filled with 'missing_value'\n",
    "    \"\"\"\n",
    "    return (\n",
    "        dataframe.fillna(\"missing_value\")\n",
    "    )\n",
    "    \n",
    "\n",
    "def convert_categorical_to_onehot(dataframe):\n",
    "    \"\"\"\n",
    "    Convert the column into a pivot table for onehot\n",
    "    \"\"\"\n",
    "    return (\n",
    "        pd.get_dummies(dataframe).astype(\"int\")\n",
    "    )\n",
    "    \n",
    "    \n",
    "def calculate_categorical_features(dataframe, features):\n",
    "    \"\"\"\n",
    "    Calculate categorical features\n",
    "    \"\"\"\n",
    "    return (\n",
    "        dataframe[features]\n",
    "        .pipe(fill_categorical_values)\n",
    "        .pipe(convert_categorical_to_onehot)\n",
    "    )"
   ]
  },
  {
   "cell_type": "code",
   "execution_count": 296,
   "id": "1716a8ea",
   "metadata": {},
   "outputs": [],
   "source": [
    "df_categorical_features = calculate_categorical_features(df_data_loaded, features=[\"type1\", \"type2\"])"
   ]
  },
  {
   "cell_type": "markdown",
   "id": "cce7e477",
   "metadata": {},
   "source": [
    "## Join features"
   ]
  },
  {
   "cell_type": "code",
   "execution_count": 298,
   "id": "5d2d07cd",
   "metadata": {},
   "outputs": [],
   "source": [
    "df_features = df_numerical_features.join(df_categorical_features)"
   ]
  },
  {
   "cell_type": "markdown",
   "id": "3ac281f7",
   "metadata": {},
   "source": [
    "### Define target variable"
   ]
  },
  {
   "cell_type": "code",
   "execution_count": 313,
   "id": "d24ff2eb",
   "metadata": {},
   "outputs": [],
   "source": [
    "df_target = df_data_loaded[[\"is_legendary\"]]"
   ]
  },
  {
   "cell_type": "code",
   "execution_count": 314,
   "id": "bfef7c75",
   "metadata": {},
   "outputs": [],
   "source": [
    "df_features.to_csv(dataset_folder / \"clean__features.csv\", sep=\";\", index=False)\n",
    "df_target.to_csv(dataset_folder / \"clean__target.csv\", sep=\";\", index=False)"
   ]
  },
  {
   "cell_type": "markdown",
   "id": "2a3cd35c",
   "metadata": {},
   "source": [
    "# Tune and train"
   ]
  },
  {
   "cell_type": "code",
   "execution_count": 315,
   "id": "422d2a34",
   "metadata": {},
   "outputs": [],
   "source": [
    "df_features_loaded= pd.read_csv(dataset_folder / \"clean__features.csv\", sep=\";\")\n",
    "df_target_loaded= pd.read_csv(dataset_folder / \"clean__target.csv\", sep=\";\")"
   ]
  },
  {
   "cell_type": "code",
   "execution_count": 359,
   "id": "73c08ed0",
   "metadata": {},
   "outputs": [],
   "source": [
    "assert df_target_loaded.shape[0] == df_features_loaded.shape[0]"
   ]
  },
  {
   "cell_type": "markdown",
   "id": "986e51dd",
   "metadata": {},
   "source": [
    "In this module we do the following\n",
    "\n",
    "- split train and test data\n",
    "- Optimize hyperparameters\n",
    "- Train "
   ]
  },
  {
   "cell_type": "markdown",
   "id": "b20d2f32",
   "metadata": {},
   "source": [
    "### Split train test"
   ]
  },
  {
   "cell_type": "code",
   "execution_count": 319,
   "id": "928bd3d2",
   "metadata": {},
   "outputs": [],
   "source": [
    "from sklearn.model_selection import train_test_split"
   ]
  },
  {
   "cell_type": "code",
   "execution_count": 368,
   "id": "cd7047b9",
   "metadata": {},
   "outputs": [],
   "source": [
    "X_train, X_test, y_train, y_test = train_test_split(\n",
    "    df_features_loaded,\n",
    "    df_target_loaded,\n",
    "    random_state=100,\n",
    "    test_size=0.2\n",
    ")"
   ]
  },
  {
   "cell_type": "markdown",
   "id": "a7572e1d",
   "metadata": {},
   "source": [
    "### Define hyperspace"
   ]
  },
  {
   "cell_type": "code",
   "execution_count": 370,
   "id": "9acc9c8a",
   "metadata": {},
   "outputs": [],
   "source": [
    "from sklearn.linear_model import LogisticRegression\n",
    "from sklearn.model_selection import cross_val_score"
   ]
  },
  {
   "cell_type": "code",
   "execution_count": 416,
   "id": "23e01256",
   "metadata": {},
   "outputs": [],
   "source": [
    "from hyperopt import fmin, tpe, STATUS_OK, space_eval\n",
    "from hyperopt import Trials\n",
    "\n",
    "from functools import partial"
   ]
  },
  {
   "cell_type": "code",
   "execution_count": 411,
   "id": "e6d8897d",
   "metadata": {},
   "outputs": [],
   "source": [
    "hyperspace = {\n",
    "    \"penalty\": hp.choice(\"penalty\", [\"l1\", \"l2\"]),\n",
    "    \"class_weight\": hp.choice(\"class_weight\", [\"balanced\", None]),\n",
    "    \"max_iter\": hp.choice(\"max_iter\", [100, 300, 500, 600, 1000, 1500, 2000]),\n",
    "    \"fit_intercept\": hp.choice(\"fit_intercept\", [True, False]),\n",
    "    \"solver\": hp.choice(\"solver\", [\"saga\", \"liblinear\"]),\n",
    "}"
   ]
  },
  {
   "cell_type": "code",
   "execution_count": 412,
   "id": "111eb7c7",
   "metadata": {},
   "outputs": [],
   "source": [
    "def objective_function(\n",
    "    hyperparameters, X, y, \n",
    "):\n",
    "    \"\"\"\n",
    "    train single instance\n",
    "    \"\"\"\n",
    "    np.random.seed(100)\n",
    "    \n",
    "    # Initialize \n",
    "    classifier = LogisticRegression(**hyperparameters)\n",
    "    \n",
    "    # get scores via cross validation\n",
    "    scores = cross_val_score(classifier, X, y.values.reshape(y.shape[0], ), cv=5, scoring='f1')\n",
    "    \n",
    "    # return value\n",
    "    return {\n",
    "        \"loss\": -np.mean(scores),\n",
    "        \"hyperparameters\": hyperparameters,\n",
    "        'status': STATUS_OK\n",
    "    }\n",
    "    "
   ]
  },
  {
   "cell_type": "code",
   "execution_count": 413,
   "id": "20533f66",
   "metadata": {
    "scrolled": false
   },
   "outputs": [
    {
     "name": "stdout",
     "output_type": "stream",
     "text": [
      " 60%|███████████████████████████████████▍                       | 6/10 [00:00<00:00, 23.57trial/s, best loss: -0.8923038480759621]"
     ]
    },
    {
     "name": "stderr",
     "output_type": "stream",
     "text": [
      "/opt/homebrew/Caskroom/miniconda/base/envs/pycon/lib/python3.8/site-packages/sklearn/linear_model/_sag.py:350: ConvergenceWarning: The max_iter was reached which means the coef_ did not converge\n",
      "  warnings.warn(\n",
      "\n",
      "/opt/homebrew/Caskroom/miniconda/base/envs/pycon/lib/python3.8/site-packages/sklearn/linear_model/_sag.py:350: ConvergenceWarning: The max_iter was reached which means the coef_ did not converge\n",
      "  warnings.warn(\n",
      "\n",
      "/opt/homebrew/Caskroom/miniconda/base/envs/pycon/lib/python3.8/site-packages/sklearn/linear_model/_sag.py:350: ConvergenceWarning: The max_iter was reached which means the coef_ did not converge\n",
      "  warnings.warn(\n",
      "\n",
      "/opt/homebrew/Caskroom/miniconda/base/envs/pycon/lib/python3.8/site-packages/sklearn/linear_model/_sag.py:350: ConvergenceWarning: The max_iter was reached which means the coef_ did not converge\n",
      "  warnings.warn(\n",
      "\n",
      "/opt/homebrew/Caskroom/miniconda/base/envs/pycon/lib/python3.8/site-packages/sklearn/linear_model/_sag.py:350: ConvergenceWarning: The max_iter was reached which means the coef_ did not converge\n",
      "  warnings.warn(\n",
      "\n"
     ]
    },
    {
     "name": "stdout",
     "output_type": "stream",
     "text": [
      "\r\n",
      " 90%|█████████████████████████████████████████████████████      | 9/10 [00:01<00:00,  6.12trial/s, best loss: -0.8923038480759621]"
     ]
    },
    {
     "name": "stderr",
     "output_type": "stream",
     "text": [
      "/opt/homebrew/Caskroom/miniconda/base/envs/pycon/lib/python3.8/site-packages/sklearn/linear_model/_sag.py:350: ConvergenceWarning: The max_iter was reached which means the coef_ did not converge\n",
      "  warnings.warn(\n",
      "\n"
     ]
    },
    {
     "name": "stdout",
     "output_type": "stream",
     "text": [
      "100%|██████████████████████████████████████████████████████████| 10/10 [00:01<00:00,  5.57trial/s, best loss: -0.8923038480759621]\n"
     ]
    }
   ],
   "source": [
    "# initialize trials and \n",
    "trials = Trials()\n",
    "\n",
    "\n",
    "best_result = fmin(\n",
    "    partial(objective_function, X=X_train, y=y_train),\n",
    "    space=hyperspace,\n",
    "    algo=tpe.suggest,\n",
    "    max_evals=10,\n",
    "    trials=trials\n",
    ")"
   ]
  },
  {
   "cell_type": "code",
   "execution_count": null,
   "id": "efee1306",
   "metadata": {},
   "outputs": [],
   "source": [
    "def train_model(hyperparameters, X, y):\n",
    "    \"\"\"\n",
    "    Train model for given hyperparameters and data\n",
    "    \"\"\"\n",
    "    np.random.seed(100)\n",
    "\n",
    "    # initialize model\n",
    "    classifier = LogisticRegression(**hyperparameters)\n",
    "\n",
    "    # Train\n",
    "    classifier.fit(X, y)\n",
    "\n",
    "    return classifier"
   ]
  },
  {
   "cell_type": "code",
   "execution_count": 418,
   "id": "4f03021a",
   "metadata": {},
   "outputs": [
    {
     "data": {
      "text/plain": [
       "{'class_weight': 'balanced',\n",
       " 'fit_intercept': True,\n",
       " 'max_iter': 2000,\n",
       " 'penalty': 'l1',\n",
       " 'solver': 'liblinear'}"
      ]
     },
     "execution_count": 418,
     "metadata": {},
     "output_type": "execute_result"
    }
   ],
   "source": [
    "best_hyperparameters = space_eval(hyperspace, best_result)\n",
    "best_hyperparameters"
   ]
  },
  {
   "cell_type": "code",
   "execution_count": 419,
   "id": "b8edc606",
   "metadata": {},
   "outputs": [
    {
     "name": "stderr",
     "output_type": "stream",
     "text": [
      "/opt/homebrew/Caskroom/miniconda/base/envs/pycon/lib/python3.8/site-packages/sklearn/utils/validation.py:1141: DataConversionWarning: A column-vector y was passed when a 1d array was expected. Please change the shape of y to (n_samples, ), for example using ravel().\n",
      "  y = column_or_1d(y, warn=True)\n"
     ]
    },
    {
     "data": {
      "text/html": [
       "<style>#sk-container-id-1 {color: black;background-color: white;}#sk-container-id-1 pre{padding: 0;}#sk-container-id-1 div.sk-toggleable {background-color: white;}#sk-container-id-1 label.sk-toggleable__label {cursor: pointer;display: block;width: 100%;margin-bottom: 0;padding: 0.3em;box-sizing: border-box;text-align: center;}#sk-container-id-1 label.sk-toggleable__label-arrow:before {content: \"▸\";float: left;margin-right: 0.25em;color: #696969;}#sk-container-id-1 label.sk-toggleable__label-arrow:hover:before {color: black;}#sk-container-id-1 div.sk-estimator:hover label.sk-toggleable__label-arrow:before {color: black;}#sk-container-id-1 div.sk-toggleable__content {max-height: 0;max-width: 0;overflow: hidden;text-align: left;background-color: #f0f8ff;}#sk-container-id-1 div.sk-toggleable__content pre {margin: 0.2em;color: black;border-radius: 0.25em;background-color: #f0f8ff;}#sk-container-id-1 input.sk-toggleable__control:checked~div.sk-toggleable__content {max-height: 200px;max-width: 100%;overflow: auto;}#sk-container-id-1 input.sk-toggleable__control:checked~label.sk-toggleable__label-arrow:before {content: \"▾\";}#sk-container-id-1 div.sk-estimator input.sk-toggleable__control:checked~label.sk-toggleable__label {background-color: #d4ebff;}#sk-container-id-1 div.sk-label input.sk-toggleable__control:checked~label.sk-toggleable__label {background-color: #d4ebff;}#sk-container-id-1 input.sk-hidden--visually {border: 0;clip: rect(1px 1px 1px 1px);clip: rect(1px, 1px, 1px, 1px);height: 1px;margin: -1px;overflow: hidden;padding: 0;position: absolute;width: 1px;}#sk-container-id-1 div.sk-estimator {font-family: monospace;background-color: #f0f8ff;border: 1px dotted black;border-radius: 0.25em;box-sizing: border-box;margin-bottom: 0.5em;}#sk-container-id-1 div.sk-estimator:hover {background-color: #d4ebff;}#sk-container-id-1 div.sk-parallel-item::after {content: \"\";width: 100%;border-bottom: 1px solid gray;flex-grow: 1;}#sk-container-id-1 div.sk-label:hover label.sk-toggleable__label {background-color: #d4ebff;}#sk-container-id-1 div.sk-serial::before {content: \"\";position: absolute;border-left: 1px solid gray;box-sizing: border-box;top: 0;bottom: 0;left: 50%;z-index: 0;}#sk-container-id-1 div.sk-serial {display: flex;flex-direction: column;align-items: center;background-color: white;padding-right: 0.2em;padding-left: 0.2em;position: relative;}#sk-container-id-1 div.sk-item {position: relative;z-index: 1;}#sk-container-id-1 div.sk-parallel {display: flex;align-items: stretch;justify-content: center;background-color: white;position: relative;}#sk-container-id-1 div.sk-item::before, #sk-container-id-1 div.sk-parallel-item::before {content: \"\";position: absolute;border-left: 1px solid gray;box-sizing: border-box;top: 0;bottom: 0;left: 50%;z-index: -1;}#sk-container-id-1 div.sk-parallel-item {display: flex;flex-direction: column;z-index: 1;position: relative;background-color: white;}#sk-container-id-1 div.sk-parallel-item:first-child::after {align-self: flex-end;width: 50%;}#sk-container-id-1 div.sk-parallel-item:last-child::after {align-self: flex-start;width: 50%;}#sk-container-id-1 div.sk-parallel-item:only-child::after {width: 0;}#sk-container-id-1 div.sk-dashed-wrapped {border: 1px dashed gray;margin: 0 0.4em 0.5em 0.4em;box-sizing: border-box;padding-bottom: 0.4em;background-color: white;}#sk-container-id-1 div.sk-label label {font-family: monospace;font-weight: bold;display: inline-block;line-height: 1.2em;}#sk-container-id-1 div.sk-label-container {text-align: center;}#sk-container-id-1 div.sk-container {/* jupyter's `normalize.less` sets `[hidden] { display: none; }` but bootstrap.min.css set `[hidden] { display: none !important; }` so we also need the `!important` here to be able to override the default hidden behavior on the sphinx rendered scikit-learn.org. See: https://github.com/scikit-learn/scikit-learn/issues/21755 */display: inline-block !important;position: relative;}#sk-container-id-1 div.sk-text-repr-fallback {display: none;}</style><div id=\"sk-container-id-1\" class=\"sk-top-container\"><div class=\"sk-text-repr-fallback\"><pre>LogisticRegression(class_weight=&#x27;balanced&#x27;, max_iter=2000, penalty=&#x27;l1&#x27;,\n",
       "                   solver=&#x27;liblinear&#x27;)</pre><b>In a Jupyter environment, please rerun this cell to show the HTML representation or trust the notebook. <br />On GitHub, the HTML representation is unable to render, please try loading this page with nbviewer.org.</b></div><div class=\"sk-container\" hidden><div class=\"sk-item\"><div class=\"sk-estimator sk-toggleable\"><input class=\"sk-toggleable__control sk-hidden--visually\" id=\"sk-estimator-id-1\" type=\"checkbox\" checked><label for=\"sk-estimator-id-1\" class=\"sk-toggleable__label sk-toggleable__label-arrow\">LogisticRegression</label><div class=\"sk-toggleable__content\"><pre>LogisticRegression(class_weight=&#x27;balanced&#x27;, max_iter=2000, penalty=&#x27;l1&#x27;,\n",
       "                   solver=&#x27;liblinear&#x27;)</pre></div></div></div></div></div>"
      ],
      "text/plain": [
       "LogisticRegression(class_weight='balanced', max_iter=2000, penalty='l1',\n",
       "                   solver='liblinear')"
      ]
     },
     "execution_count": 419,
     "metadata": {},
     "output_type": "execute_result"
    }
   ],
   "source": [
    "classifier = train_model(best_hyperparameters, X_train, y_train)"
   ]
  },
  {
   "cell_type": "markdown",
   "id": "412a3f1f",
   "metadata": {},
   "source": [
    "### Predict on test data"
   ]
  },
  {
   "cell_type": "code",
   "execution_count": 424,
   "id": "514979a2",
   "metadata": {},
   "outputs": [],
   "source": [
    "from sklearn.metrics import confusion_matrix, f1_score"
   ]
  },
  {
   "cell_type": "code",
   "execution_count": 425,
   "id": "73356945",
   "metadata": {},
   "outputs": [
    {
     "data": {
      "text/plain": [
       "0.7500000000000001"
      ]
     },
     "execution_count": 425,
     "metadata": {},
     "output_type": "execute_result"
    }
   ],
   "source": [
    "f1_score(y_test, classifier.predict(X_test))"
   ]
  },
  {
   "cell_type": "code",
   "execution_count": 432,
   "id": "8a70ef93",
   "metadata": {},
   "outputs": [],
   "source": [
    "tn, fp, fn, tp = confusion_matrix(y_test, classifier.predict(X_test)).ravel()"
   ]
  },
  {
   "cell_type": "code",
   "execution_count": 434,
   "id": "f7822db6",
   "metadata": {},
   "outputs": [
    {
     "name": "stdout",
     "output_type": "stream",
     "text": [
      "True Negative: 146 \n",
      "True Positive: 9 \n",
      "False Positive: 2 \n",
      "False Negative: 4\n"
     ]
    }
   ],
   "source": [
    "print(\n",
    "    f\"True Negative: {tn}\",\n",
    "    f\"\\nTrue Positive: {tp}\",\n",
    "    f\"\\nFalse Positive: {fp}\",\n",
    "    f\"\\nFalse Negative: {fn}\",\n",
    ")"
   ]
  },
  {
   "cell_type": "code",
   "execution_count": null,
   "id": "f3475ec0",
   "metadata": {},
   "outputs": [],
   "source": []
  }
 ],
 "metadata": {
  "kernelspec": {
   "display_name": "Python 3 (ipykernel)",
   "language": "python",
   "name": "python3"
  },
  "language_info": {
   "codemirror_mode": {
    "name": "ipython",
    "version": 3
   },
   "file_extension": ".py",
   "mimetype": "text/x-python",
   "name": "python",
   "nbconvert_exporter": "python",
   "pygments_lexer": "ipython3",
   "version": "3.8.16"
  }
 },
 "nbformat": 4,
 "nbformat_minor": 5
}
