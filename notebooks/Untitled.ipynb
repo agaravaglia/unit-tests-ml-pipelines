{
 "cells": [
  {
   "cell_type": "code",
   "execution_count": 1,
   "id": "8964e88d",
   "metadata": {},
   "outputs": [],
   "source": [
    "import pandas as pd"
   ]
  },
  {
   "cell_type": "code",
   "execution_count": 7,
   "id": "94b966ff",
   "metadata": {},
   "outputs": [
    {
     "data": {
      "text/plain": [
       "Index(['name', 'pokedex_number', 'is_legendary', 'against_bug',\n",
       "       'experience_growth', 'against_rock', 'sp_attack', 'percentage_male',\n",
       "       'base_happiness', 'against_flying', 'against_fight', 'japanese_name',\n",
       "       'speed', 'against_poison', 'defense', 'hp', 'against_fairy', 'height_m',\n",
       "       'against_electric', 'type2', 'against_ground', 'base_total',\n",
       "       'against_steel', 'against_ice', 'against_ghost', 'sp_defense',\n",
       "       'capture_rate', 'against_psychic', 'against_grass', 'attack', 'type1',\n",
       "       'against_water', 'generation', 'classfication', 'weight_kg',\n",
       "       'against_dragon', 'against_normal', 'against_fire', 'abilities',\n",
       "       'against_dark', 'base_egg_steps'],\n",
       "      dtype='object')"
      ]
     },
     "execution_count": 7,
     "metadata": {},
     "output_type": "execute_result"
    }
   ],
   "source": [
    "pd.read_csv(\"../data/datasets/raw/raw_pokemon_data.csv\", sep=\";\").columns"
   ]
  },
  {
   "cell_type": "code",
   "execution_count": 3,
   "id": "ed7aafc7",
   "metadata": {},
   "outputs": [],
   "source": [
    "from sklearn.datasets import make_classification\n",
    "import pandas as pd"
   ]
  },
  {
   "cell_type": "code",
   "execution_count": 6,
   "id": "ddeced61",
   "metadata": {},
   "outputs": [],
   "source": [
    "def classification_table(\n",
    "    n_samples: int,\n",
    "    n_features: int,\n",
    "    feature_names: list = [],\n",
    "    target_name: str = \"\"\n",
    "):\n",
    "    \"\"\"\n",
    "    Create dataset\n",
    "    \"\"\"\n",
    "    if not feature_names or len(feature_names) != n_features:\n",
    "        feature_names = [f\"feat_{i}\" for i in range (1, n_features + 1)]\n",
    "    if not target_name:\n",
    "        target_name = \"target\"\n",
    "    X, y = make_classification(n_samples=n_samples, n_features=n_features)\n",
    "    return {\n",
    "        \"features\": pd.DataFrame(X, columns=feature_names),\n",
    "        \"target\": pd.DataFrame(y, columns=[target_name]),\n",
    "    }"
   ]
  },
  {
   "cell_type": "code",
   "execution_count": 7,
   "id": "d4c3e85c",
   "metadata": {},
   "outputs": [
    {
     "data": {
      "text/plain": [
       "{'features':      feat_1    feat_2    feat_3    feat_4    feat_5\n",
       " 0 -1.654791  1.561042 -1.088517 -1.562175  2.526279\n",
       " 1  0.241021  0.377940  0.457585  0.301261 -1.064208\n",
       " 2  1.369244 -0.099905  1.489458  1.437772  1.367376\n",
       " 3  1.625476 -0.575771  1.542329  1.651143 -1.537157\n",
       " 4  1.651476  0.902083  2.301659  1.858683  0.006344\n",
       " 5 -0.483079 -2.551861 -1.803612 -0.822376  0.366832\n",
       " 6  0.046313 -1.630679 -0.753563 -0.149581 -1.023917\n",
       " 7  0.968346  0.147530  1.161154  1.043386 -0.619766\n",
       " 8  0.641495  0.379580  0.908465  0.725536 -1.459996\n",
       " 9 -1.165263  1.520281 -0.558502 -1.048762 -0.033681,\n",
       " 'target':    is_legendary\n",
       " 0             0\n",
       " 1             0\n",
       " 2             1\n",
       " 3             1\n",
       " 4             1\n",
       " 5             0\n",
       " 6             0\n",
       " 7             1\n",
       " 8             1\n",
       " 9             0}"
      ]
     },
     "execution_count": 7,
     "metadata": {},
     "output_type": "execute_result"
    }
   ],
   "source": [
    "classification_table(\n",
    "    n_samples=10,\n",
    "    n_features=5,\n",
    "    target_name=\"is_legendary\"\n",
    ")"
   ]
  },
  {
   "cell_type": "code",
   "execution_count": null,
   "id": "9fe01492",
   "metadata": {},
   "outputs": [],
   "source": []
  }
 ],
 "metadata": {
  "kernelspec": {
   "display_name": "Python 3 (ipykernel)",
   "language": "python",
   "name": "python3"
  },
  "language_info": {
   "codemirror_mode": {
    "name": "ipython",
    "version": 3
   },
   "file_extension": ".py",
   "mimetype": "text/x-python",
   "name": "python",
   "nbconvert_exporter": "python",
   "pygments_lexer": "ipython3",
   "version": "3.8.16"
  }
 },
 "nbformat": 4,
 "nbformat_minor": 5
}
